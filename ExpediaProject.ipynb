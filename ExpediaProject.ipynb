{
 "cells": [
  {
   "cell_type": "code",
   "execution_count": 1,
   "id": "3ea42003",
   "metadata": {},
   "outputs": [],
   "source": [
    "import pandas as pd\n",
    "import os\n",
    "import csv\n",
    "import numpy as np"
   ]
  },
  {
   "cell_type": "markdown",
   "id": "5545ef34",
   "metadata": {},
   "source": [
    "Pre-processing:"
   ]
  },
  {
   "cell_type": "markdown",
   "id": "fb4a678c",
   "metadata": {},
   "source": [
    "https://www.kaggle.com/datasets/vijeetnigam26/expedia-hotel"
   ]
  },
  {
   "cell_type": "code",
   "execution_count": 2,
   "id": "a17066a0",
   "metadata": {},
   "outputs": [],
   "source": [
    "# test contains real data, train contains train data"
   ]
  },
  {
   "cell_type": "code",
   "execution_count": 3,
   "id": "4ad79036",
   "metadata": {},
   "outputs": [],
   "source": [
    "g = open(os.getcwd() + \"/train.csv\", \"r\")\n",
    "train = pd.read_csv(g)\n",
    "# train.head()"
   ]
  },
  {
   "cell_type": "code",
   "execution_count": 4,
   "id": "8dcf0a9f",
   "metadata": {},
   "outputs": [],
   "source": [
    "f = open(os.getcwd() + \"/test.csv\", \"r\")\n",
    "test = pd.read_csv(f)\n",
    "# test.head()"
   ]
  },
  {
   "cell_type": "markdown",
   "id": "e102d33c",
   "metadata": {},
   "source": [
    "Dealing with missing values; dropping all rows that do not contain our target variable - comp1_rate:"
   ]
  },
  {
   "cell_type": "code",
   "execution_count": 5,
   "id": "33599724",
   "metadata": {},
   "outputs": [],
   "source": [
    "test_original = test.copy()\n",
    "train_original = train.copy()"
   ]
  },
  {
   "cell_type": "code",
   "execution_count": 6,
   "id": "2b0e6337",
   "metadata": {},
   "outputs": [],
   "source": [
    "test.dropna(subset=[\"comp1_rate\"], inplace=True)\n",
    "train.dropna(subset=[\"comp1_rate\"], inplace=True)"
   ]
  },
  {
   "cell_type": "markdown",
   "id": "d64b32c9",
   "metadata": {},
   "source": [
    "Target Variable:\n",
    "    comp1_rate\n",
    "        - does Expedia offer lower rates than its competitors\n",
    "        \n",
    "Explanatory Variables:\n",
    "    srch_saturday_night_bool\n",
    "             - +1 if the stay includes a Saturday night, starts from Thursday with a length of stay is less than or equal to 4 nights (i.e. weekend); otherwise 0\n",
    "         \n",
    "    prop_location_score1:\n",
    "        - A (first) score outlining the desirability of a hotel’s location\n",
    "        \n",
    "    prop_brand_bool:\n",
    "        - +1 if the hotel is part of a major hotel chain; 0 if it is an independent hotel   \n",
    "        \n",
    "        \n",
    "    \n",
    "    "
   ]
  },
  {
   "cell_type": "code",
   "execution_count": 7,
   "id": "2c0b4068",
   "metadata": {},
   "outputs": [],
   "source": [
    "# train[[\"comp1_rate\", \"srch_saturday_night_bool\", \"prop_location_score1\", \"prop_brand_bool\"]]"
   ]
  },
  {
   "cell_type": "code",
   "execution_count": 10,
   "id": "d89180cf",
   "metadata": {},
   "outputs": [
    {
     "data": {
      "text/plain": [
       " 1.0    132077\n",
       " 0.0     84558\n",
       "-1.0     19171\n",
       "Name: comp1_rate, dtype: int64"
      ]
     },
     "execution_count": 10,
     "metadata": {},
     "output_type": "execute_result"
    }
   ],
   "source": [
    "train[\"comp1_rate\"].value_counts()"
   ]
  },
  {
   "cell_type": "code",
   "execution_count": 13,
   "id": "e2a7b990",
   "metadata": {},
   "outputs": [
    {
     "data": {
      "text/plain": [
       " 1.0    88654\n",
       " 0.0    54011\n",
       "-1.0    12399\n",
       "Name: comp1_rate, dtype: int64"
      ]
     },
     "execution_count": 13,
     "metadata": {},
     "output_type": "execute_result"
    }
   ],
   "source": [
    "test[\"comp1_rate\"].value_counts()"
   ]
  },
  {
   "cell_type": "markdown",
   "id": "44a3188a",
   "metadata": {},
   "source": [
    "Transforming the \"comp1_rate\" column to be a binary classificaiton of whether Expedia offers a better price or not:"
   ]
  },
  {
   "cell_type": "code",
   "execution_count": 14,
   "id": "bba4c6e1",
   "metadata": {},
   "outputs": [],
   "source": [
    "def adjustRate(row):\n",
    "    if row[\"comp1_rate\"] == 1.0:\n",
    "        return 1\n",
    "    else:\n",
    "        return 0"
   ]
  },
  {
   "cell_type": "code",
   "execution_count": 16,
   "id": "65caa911",
   "metadata": {},
   "outputs": [],
   "source": [
    "train[\"comp1_rate\"] = train.apply(adjustRate, axis=1)\n",
    "test[\"comp1_rate\"] = test.apply(adjustRate, axis=1)"
   ]
  },
  {
   "cell_type": "code",
   "execution_count": 17,
   "id": "1259346b",
   "metadata": {},
   "outputs": [
    {
     "data": {
      "text/plain": [
       "1    132077\n",
       "0    103729\n",
       "Name: comp1_rate, dtype: int64"
      ]
     },
     "execution_count": 17,
     "metadata": {},
     "output_type": "execute_result"
    }
   ],
   "source": [
    "train[\"comp1_rate\"].value_counts()"
   ]
  },
  {
   "cell_type": "code",
   "execution_count": 18,
   "id": "5d25ce96",
   "metadata": {},
   "outputs": [
    {
     "data": {
      "text/plain": [
       "1    88654\n",
       "0    66410\n",
       "Name: comp1_rate, dtype: int64"
      ]
     },
     "execution_count": 18,
     "metadata": {},
     "output_type": "execute_result"
    }
   ],
   "source": [
    "test[\"comp1_rate\"].value_counts()"
   ]
  },
  {
   "cell_type": "markdown",
   "id": "d79a3045",
   "metadata": {},
   "source": [
    "Creating a new column with binary classification as to whether a location is considered \"good\":"
   ]
  },
  {
   "cell_type": "code",
   "execution_count": 19,
   "id": "d164971e",
   "metadata": {},
   "outputs": [],
   "source": [
    "def aboveOrBelowTrain(row):\n",
    "    if row[\"prop_location_score1\"] >= train[\"prop_location_score1\"].median():\n",
    "        return 1\n",
    "    else:\n",
    "        return 0"
   ]
  },
  {
   "cell_type": "code",
   "execution_count": 20,
   "id": "ffceebe1",
   "metadata": {},
   "outputs": [],
   "source": [
    "def aboveOrBelowTest(row):\n",
    "    if row[\"prop_location_score1\"] >= test[\"prop_location_score1\"].median():\n",
    "        return 1\n",
    "    else:\n",
    "        return 0"
   ]
  },
  {
   "cell_type": "code",
   "execution_count": 21,
   "id": "e10bbeb4",
   "metadata": {},
   "outputs": [],
   "source": [
    "train[\"isGoodLocation\"] = train.apply(aboveOrBelowTrain, axis=1)"
   ]
  },
  {
   "cell_type": "code",
   "execution_count": 22,
   "id": "7e6e50d2",
   "metadata": {},
   "outputs": [],
   "source": [
    "test[\"isGoodLocation\"] = test.apply(aboveOrBelowTest, axis=1)"
   ]
  },
  {
   "cell_type": "markdown",
   "id": "9d251c5e",
   "metadata": {},
   "source": [
    "Model Building - Logistic Regression:"
   ]
  },
  {
   "cell_type": "code",
   "execution_count": 23,
   "id": "4502023f",
   "metadata": {},
   "outputs": [
    {
     "data": {
      "text/plain": [
       "array([0, 1, 1, 0, 1])"
      ]
     },
     "execution_count": 23,
     "metadata": {},
     "output_type": "execute_result"
    }
   ],
   "source": [
    "predictors = [\"srch_saturday_night_bool\", \"prop_location_score1\", \"prop_brand_bool\", \"isGoodLocation\"]\n",
    "X_train = train[predictors].values\n",
    "X_test = test[predictors].values\n",
    "y_train = train['comp1_rate'].values\n",
    "X_train[:5]\n",
    "y_train[:5] "
   ]
  },
  {
   "cell_type": "code",
   "execution_count": 63,
   "id": "ec88404e",
   "metadata": {},
   "outputs": [],
   "source": [
    "from sklearn.linear_model import LogisticRegression\n",
    "model = LogisticRegression()"
   ]
  },
  {
   "cell_type": "code",
   "execution_count": 64,
   "id": "bb3e0bd3",
   "metadata": {},
   "outputs": [
    {
     "data": {
      "text/plain": [
       "LogisticRegression()"
      ]
     },
     "execution_count": 64,
     "metadata": {},
     "output_type": "execute_result"
    }
   ],
   "source": [
    "model.fit(X_train, y_train)"
   ]
  },
  {
   "cell_type": "code",
   "execution_count": 66,
   "id": "190909f6",
   "metadata": {},
   "outputs": [],
   "source": [
    "y_predict = model.predict(X_test)"
   ]
  },
  {
   "cell_type": "code",
   "execution_count": 67,
   "id": "ff784cd1",
   "metadata": {},
   "outputs": [
    {
     "data": {
      "text/plain": [
       "array([0., 0., 1., 0., 0., 0., 1., 1., 1., 1.])"
      ]
     },
     "execution_count": 67,
     "metadata": {},
     "output_type": "execute_result"
    }
   ],
   "source": [
    "y_predict[:10]"
   ]
  },
  {
   "cell_type": "code",
   "execution_count": 69,
   "id": "a0dfd97e",
   "metadata": {},
   "outputs": [
    {
     "data": {
      "text/plain": [
       "array([-0.88207346,  0.43931554,  0.44275793])"
      ]
     },
     "execution_count": 69,
     "metadata": {},
     "output_type": "execute_result"
    }
   ],
   "source": [
    "model.coef_\n",
    "model.intercept_"
   ]
  },
  {
   "cell_type": "code",
   "execution_count": 73,
   "id": "791b3f80",
   "metadata": {},
   "outputs": [
    {
     "data": {
      "text/plain": [
       "array([[1.01619323, 0.99964727, 0.68480751, 0.85126533],\n",
       "       [1.00836223, 0.92716642, 1.8643696 , 1.00080368],\n",
       "       [0.97590408, 1.0789356 , 0.78324832, 1.17377854]])"
      ]
     },
     "execution_count": 73,
     "metadata": {},
     "output_type": "execute_result"
    }
   ],
   "source": [
    "np.exp(model.coef_)\n"
   ]
  },
  {
   "cell_type": "code",
   "execution_count": 74,
   "id": "3e4eea92",
   "metadata": {},
   "outputs": [
    {
     "data": {
      "text/plain": [
       "['srch_saturday_night_bool',\n",
       " 'prop_location_score1',\n",
       " 'prop_brand_bool',\n",
       " 'isGoodLocation']"
      ]
     },
     "execution_count": 74,
     "metadata": {},
     "output_type": "execute_result"
    }
   ],
   "source": [
    "predictors"
   ]
  },
  {
   "cell_type": "markdown",
   "id": "6748bf1e",
   "metadata": {},
   "source": [
    "Crossvalidation:\n",
    "* cv = number of folds\n",
    "* Cs = list of floats or int with the inverse of regularization strength. smaller values specify stronger regularization\n",
    "* scoring =  A string or a scorer (see sklearn.metrics). The default scoring option used is ‘accuracy’."
   ]
  },
  {
   "cell_type": "code",
   "execution_count": 75,
   "id": "4d3bbc70",
   "metadata": {},
   "outputs": [
    {
     "data": {
      "text/plain": [
       "LogisticRegressionCV(Cs=[0.0001, 0.001, 0.01, 0.1, 1.0, 10.0, 100.0, 1000.0],\n",
       "                     cv=10, scoring='accuracy')"
      ]
     },
     "execution_count": 75,
     "metadata": {},
     "output_type": "execute_result"
    }
   ],
   "source": [
    "from sklearn.linear_model import LogisticRegressionCV\n",
    "listC = list(np.power(10.0, np.arange(-4, 4)))\n",
    "model_cv = LogisticRegressionCV(cv=10,Cs=listC,scoring = \"accuracy\" )\n",
    "model_cv.fit(X_train, y_train)"
   ]
  },
  {
   "cell_type": "code",
   "execution_count": null,
   "id": "5acce968",
   "metadata": {},
   "outputs": [],
   "source": []
  },
  {
   "cell_type": "code",
   "execution_count": 76,
   "id": "0e7499c6",
   "metadata": {},
   "outputs": [
    {
     "data": {
      "text/plain": [
       "0.5907737781732888"
      ]
     },
     "execution_count": 76,
     "metadata": {},
     "output_type": "execute_result"
    }
   ],
   "source": [
    "model_cv.scores_\n",
    "\n",
    "np.average(model_cv.scores_[1])"
   ]
  },
  {
   "cell_type": "code",
   "execution_count": 77,
   "id": "8ccf820e",
   "metadata": {},
   "outputs": [
    {
     "data": {
      "text/plain": [
       "0.5925633783703553"
      ]
     },
     "execution_count": 77,
     "metadata": {},
     "output_type": "execute_result"
    }
   ],
   "source": [
    "model_cv.score(X_train,y_train)"
   ]
  },
  {
   "cell_type": "code",
   "execution_count": 78,
   "id": "aa3db551",
   "metadata": {},
   "outputs": [
    {
     "name": "stdout",
     "output_type": "stream",
     "text": [
      "[0.001 0.001 0.001]\n"
     ]
    }
   ],
   "source": [
    "# we try 20 different values for C in the logarithmic scale between 1e-4 and 1e4 (Cs = numpy.logspace(-4, 4, num=20))\n",
    "model_cv = LogisticRegressionCV(cv=10, Cs=listC)\n",
    "model_cv.fit(X_train, y_train)\n",
    "# check which value of C was selected\n",
    "print(model_cv.C_) \n"
   ]
  },
  {
   "cell_type": "code",
   "execution_count": 80,
   "id": "2cff2cd5",
   "metadata": {},
   "outputs": [
    {
     "name": "stdout",
     "output_type": "stream",
     "text": [
      "DecisionTreeClassifier(criterion='entropy', max_depth=10, min_samples_leaf=4,\n",
      "                       random_state=0)\n",
      "{'criterion': 'entropy', 'max_depth': 10, 'min_samples_leaf': 4}\n",
      "0.6271850478713653\n"
     ]
    }
   ],
   "source": [
    "from sklearn.tree import DecisionTreeClassifier\n",
    "from sklearn.model_selection import GridSearchCV\n",
    "# define grid\n",
    "parametergrid= {\"criterion\" : (\"gini\", \"entropy\"),\"max_depth\":(1,2,3,4,5,6,7,8,9,10),\"min_samples_leaf\":(1,2,3,4,5,6,7,8,9,10)\n",
    "}\n",
    "# random_state ensures replicability\n",
    "clf = GridSearchCV(DecisionTreeClassifier(random_state=0), parametergrid)\n",
    "#this may take a while\n",
    "clf.fit(X_train, y_train)\n",
    "# returns the best model\n",
    "print(clf.best_estimator_)\n",
    "# the best parameters\n",
    "print(clf.best_params_)\n",
    "# results obtained by the best model\n",
    "print(clf.best_score_)"
   ]
  },
  {
   "cell_type": "code",
   "execution_count": null,
   "id": "f163c66b",
   "metadata": {},
   "outputs": [],
   "source": []
  }
 ],
 "metadata": {
  "kernelspec": {
   "display_name": "Python 3",
   "language": "python",
   "name": "python3"
  },
  "language_info": {
   "codemirror_mode": {
    "name": "ipython",
    "version": 3
   },
   "file_extension": ".py",
   "mimetype": "text/x-python",
   "name": "python",
   "nbconvert_exporter": "python",
   "pygments_lexer": "ipython3",
   "version": "3.8.8"
  }
 },
 "nbformat": 4,
 "nbformat_minor": 5
}
