{
 "cells": [
  {
   "cell_type": "code",
   "execution_count": 1,
   "id": "3ea42003",
   "metadata": {},
   "outputs": [],
   "source": [
    "import pandas as pd\n",
    "import os\n",
    "import csv\n",
    "import numpy as np\n",
    "from sklearn.model_selection import train_test_split\n",
    "from sklearn import metrics\n",
    "from sklearn.metrics import accuracy_score, confusion_matrix, precision_recall_fscore_support, roc_curve, auc\n",
    "import matplotlib.pyplot as plt\n",
    "import seaborn as sb\n",
    "from sklearn.model_selection import cross_val_score\n",
    "from sklearn import metrics"
   ]
  },
  {
   "cell_type": "markdown",
   "id": "5545ef34",
   "metadata": {},
   "source": [
    "Pre-processing:"
   ]
  },
  {
   "cell_type": "markdown",
   "id": "fb4a678c",
   "metadata": {},
   "source": [
    "https://www.kaggle.com/datasets/vijeetnigam26/expedia-hotel"
   ]
  },
  {
   "cell_type": "code",
   "execution_count": 2,
   "id": "4ad79036",
   "metadata": {},
   "outputs": [],
   "source": [
    "f = open(os.getcwd() + \"/train.csv\", \"r\")\n",
    "df = pd.read_csv(f)"
   ]
  },
  {
   "cell_type": "code",
   "execution_count": 3,
   "id": "3bdd4034",
   "metadata": {},
   "outputs": [
    {
     "data": {
      "text/plain": [
       "0    9640937\n",
       "1     276593\n",
       "Name: booking_bool, dtype: int64"
      ]
     },
     "execution_count": 3,
     "metadata": {},
     "output_type": "execute_result"
    }
   ],
   "source": [
    "# We will be stratifying on our target variable - booking_bool:\n",
    "df['booking_bool'].value_counts()"
   ]
  },
  {
   "cell_type": "code",
   "execution_count": 4,
   "id": "1d0b8ef0",
   "metadata": {},
   "outputs": [],
   "source": [
    "booked_df = df[df[\"booking_bool\"] == 1].sample(n=200000, random_state = 42) "
   ]
  },
  {
   "cell_type": "code",
   "execution_count": 5,
   "id": "8e94eca5",
   "metadata": {},
   "outputs": [
    {
     "data": {
      "text/plain": [
       "1    200000\n",
       "Name: booking_bool, dtype: int64"
      ]
     },
     "execution_count": 5,
     "metadata": {},
     "output_type": "execute_result"
    }
   ],
   "source": [
    "booked_df[\"booking_bool\"].value_counts()"
   ]
  },
  {
   "cell_type": "code",
   "execution_count": 6,
   "id": "d23720a8",
   "metadata": {},
   "outputs": [],
   "source": [
    "not_booked_sample = df[df[\"booking_bool\"] == 0].sample(n=len(booked_df), random_state = 42) "
   ]
  },
  {
   "cell_type": "code",
   "execution_count": 7,
   "id": "523578c2",
   "metadata": {},
   "outputs": [
    {
     "data": {
      "text/plain": [
       "0    200000\n",
       "Name: booking_bool, dtype: int64"
      ]
     },
     "execution_count": 7,
     "metadata": {},
     "output_type": "execute_result"
    }
   ],
   "source": [
    "not_booked_sample[\"booking_bool\"].value_counts()"
   ]
  },
  {
   "cell_type": "code",
   "execution_count": 8,
   "id": "56380433",
   "metadata": {},
   "outputs": [],
   "source": [
    "stratified = pd.concat([booked_df, not_booked_sample])"
   ]
  },
  {
   "cell_type": "code",
   "execution_count": 9,
   "id": "6d555d37",
   "metadata": {},
   "outputs": [
    {
     "data": {
      "text/plain": [
       "0    200000\n",
       "1    200000\n",
       "Name: booking_bool, dtype: int64"
      ]
     },
     "execution_count": 9,
     "metadata": {},
     "output_type": "execute_result"
    }
   ],
   "source": [
    "stratified[\"booking_bool\"].value_counts()"
   ]
  },
  {
   "cell_type": "code",
   "execution_count": 10,
   "id": "4a11a7f7",
   "metadata": {},
   "outputs": [],
   "source": [
    "# Separate the features and target variable\n",
    "X = stratified.drop('booking_bool', axis=1)\n",
    "y = stratified['booking_bool']"
   ]
  },
  {
   "cell_type": "markdown",
   "id": "18eea754",
   "metadata": {},
   "source": [
    "Model Building - Logistic Regression:"
   ]
  },
  {
   "cell_type": "code",
   "execution_count": 11,
   "id": "b3234f55",
   "metadata": {},
   "outputs": [],
   "source": [
    "# Split the data into training and test sets\n",
    "X1, X2, y1, y2 = train_test_split(X, y, test_size=0.2, random_state=42)"
   ]
  },
  {
   "cell_type": "code",
   "execution_count": 12,
   "id": "64c4f178",
   "metadata": {},
   "outputs": [],
   "source": [
    "train = X1.copy()\n",
    "train[\"booking_bool\"] = y1"
   ]
  },
  {
   "cell_type": "code",
   "execution_count": 13,
   "id": "025398e7",
   "metadata": {},
   "outputs": [],
   "source": [
    "test = X2.copy()\n",
    "test[\"booking_bool\"] = y2"
   ]
  },
  {
   "cell_type": "code",
   "execution_count": 14,
   "id": "7e7d6d5b",
   "metadata": {},
   "outputs": [
    {
     "data": {
      "text/html": [
       "<div>\n",
       "<style scoped>\n",
       "    .dataframe tbody tr th:only-of-type {\n",
       "        vertical-align: middle;\n",
       "    }\n",
       "\n",
       "    .dataframe tbody tr th {\n",
       "        vertical-align: top;\n",
       "    }\n",
       "\n",
       "    .dataframe thead th {\n",
       "        text-align: right;\n",
       "    }\n",
       "</style>\n",
       "<table border=\"1\" class=\"dataframe\">\n",
       "  <thead>\n",
       "    <tr style=\"text-align: right;\">\n",
       "      <th></th>\n",
       "      <th>srch_id</th>\n",
       "      <th>date_time</th>\n",
       "      <th>site_id</th>\n",
       "      <th>visitor_location_country_id</th>\n",
       "      <th>visitor_hist_starrating</th>\n",
       "      <th>visitor_hist_adr_usd</th>\n",
       "      <th>prop_country_id</th>\n",
       "      <th>prop_id</th>\n",
       "      <th>prop_starrating</th>\n",
       "      <th>prop_review_score</th>\n",
       "      <th>...</th>\n",
       "      <th>comp6_rate_percent_diff</th>\n",
       "      <th>comp7_rate</th>\n",
       "      <th>comp7_inv</th>\n",
       "      <th>comp7_rate_percent_diff</th>\n",
       "      <th>comp8_rate</th>\n",
       "      <th>comp8_inv</th>\n",
       "      <th>comp8_rate_percent_diff</th>\n",
       "      <th>click_bool</th>\n",
       "      <th>gross_bookings_usd</th>\n",
       "      <th>booking_bool</th>\n",
       "    </tr>\n",
       "  </thead>\n",
       "  <tbody>\n",
       "    <tr>\n",
       "      <th>3459385</th>\n",
       "      <td>232319</td>\n",
       "      <td>2012-11-21 21:08:43</td>\n",
       "      <td>15</td>\n",
       "      <td>55</td>\n",
       "      <td>NaN</td>\n",
       "      <td>NaN</td>\n",
       "      <td>55</td>\n",
       "      <td>104616</td>\n",
       "      <td>4</td>\n",
       "      <td>3.5</td>\n",
       "      <td>...</td>\n",
       "      <td>NaN</td>\n",
       "      <td>NaN</td>\n",
       "      <td>NaN</td>\n",
       "      <td>NaN</td>\n",
       "      <td>NaN</td>\n",
       "      <td>NaN</td>\n",
       "      <td>NaN</td>\n",
       "      <td>1</td>\n",
       "      <td>193.02</td>\n",
       "      <td>1</td>\n",
       "    </tr>\n",
       "    <tr>\n",
       "      <th>9720664</th>\n",
       "      <td>652462</td>\n",
       "      <td>2012-11-12 18:12:58</td>\n",
       "      <td>5</td>\n",
       "      <td>219</td>\n",
       "      <td>NaN</td>\n",
       "      <td>NaN</td>\n",
       "      <td>219</td>\n",
       "      <td>24500</td>\n",
       "      <td>2</td>\n",
       "      <td>4.0</td>\n",
       "      <td>...</td>\n",
       "      <td>NaN</td>\n",
       "      <td>NaN</td>\n",
       "      <td>NaN</td>\n",
       "      <td>NaN</td>\n",
       "      <td>NaN</td>\n",
       "      <td>NaN</td>\n",
       "      <td>NaN</td>\n",
       "      <td>1</td>\n",
       "      <td>88.71</td>\n",
       "      <td>1</td>\n",
       "    </tr>\n",
       "    <tr>\n",
       "      <th>2027206</th>\n",
       "      <td>136044</td>\n",
       "      <td>2013-02-25 06:05:49</td>\n",
       "      <td>5</td>\n",
       "      <td>219</td>\n",
       "      <td>NaN</td>\n",
       "      <td>NaN</td>\n",
       "      <td>219</td>\n",
       "      <td>75939</td>\n",
       "      <td>2</td>\n",
       "      <td>3.5</td>\n",
       "      <td>...</td>\n",
       "      <td>NaN</td>\n",
       "      <td>NaN</td>\n",
       "      <td>NaN</td>\n",
       "      <td>NaN</td>\n",
       "      <td>0.0</td>\n",
       "      <td>0.0</td>\n",
       "      <td>NaN</td>\n",
       "      <td>1</td>\n",
       "      <td>60.15</td>\n",
       "      <td>1</td>\n",
       "    </tr>\n",
       "    <tr>\n",
       "      <th>8180884</th>\n",
       "      <td>549561</td>\n",
       "      <td>2013-06-18 21:35:48</td>\n",
       "      <td>15</td>\n",
       "      <td>55</td>\n",
       "      <td>NaN</td>\n",
       "      <td>NaN</td>\n",
       "      <td>219</td>\n",
       "      <td>1497</td>\n",
       "      <td>4</td>\n",
       "      <td>4.0</td>\n",
       "      <td>...</td>\n",
       "      <td>NaN</td>\n",
       "      <td>NaN</td>\n",
       "      <td>NaN</td>\n",
       "      <td>NaN</td>\n",
       "      <td>0.0</td>\n",
       "      <td>0.0</td>\n",
       "      <td>NaN</td>\n",
       "      <td>1</td>\n",
       "      <td>208.91</td>\n",
       "      <td>1</td>\n",
       "    </tr>\n",
       "    <tr>\n",
       "      <th>3511765</th>\n",
       "      <td>235778</td>\n",
       "      <td>2013-04-16 19:53:46</td>\n",
       "      <td>5</td>\n",
       "      <td>219</td>\n",
       "      <td>NaN</td>\n",
       "      <td>NaN</td>\n",
       "      <td>219</td>\n",
       "      <td>36791</td>\n",
       "      <td>3</td>\n",
       "      <td>4.0</td>\n",
       "      <td>...</td>\n",
       "      <td>NaN</td>\n",
       "      <td>NaN</td>\n",
       "      <td>NaN</td>\n",
       "      <td>NaN</td>\n",
       "      <td>0.0</td>\n",
       "      <td>0.0</td>\n",
       "      <td>NaN</td>\n",
       "      <td>0</td>\n",
       "      <td>NaN</td>\n",
       "      <td>0</td>\n",
       "    </tr>\n",
       "  </tbody>\n",
       "</table>\n",
       "<p>5 rows × 54 columns</p>\n",
       "</div>"
      ],
      "text/plain": [
       "         srch_id            date_time  site_id  visitor_location_country_id  \\\n",
       "3459385   232319  2012-11-21 21:08:43       15                           55   \n",
       "9720664   652462  2012-11-12 18:12:58        5                          219   \n",
       "2027206   136044  2013-02-25 06:05:49        5                          219   \n",
       "8180884   549561  2013-06-18 21:35:48       15                           55   \n",
       "3511765   235778  2013-04-16 19:53:46        5                          219   \n",
       "\n",
       "         visitor_hist_starrating  visitor_hist_adr_usd  prop_country_id  \\\n",
       "3459385                      NaN                   NaN               55   \n",
       "9720664                      NaN                   NaN              219   \n",
       "2027206                      NaN                   NaN              219   \n",
       "8180884                      NaN                   NaN              219   \n",
       "3511765                      NaN                   NaN              219   \n",
       "\n",
       "         prop_id  prop_starrating  prop_review_score  ...  \\\n",
       "3459385   104616                4                3.5  ...   \n",
       "9720664    24500                2                4.0  ...   \n",
       "2027206    75939                2                3.5  ...   \n",
       "8180884     1497                4                4.0  ...   \n",
       "3511765    36791                3                4.0  ...   \n",
       "\n",
       "         comp6_rate_percent_diff  comp7_rate  comp7_inv  \\\n",
       "3459385                      NaN         NaN        NaN   \n",
       "9720664                      NaN         NaN        NaN   \n",
       "2027206                      NaN         NaN        NaN   \n",
       "8180884                      NaN         NaN        NaN   \n",
       "3511765                      NaN         NaN        NaN   \n",
       "\n",
       "         comp7_rate_percent_diff  comp8_rate  comp8_inv  \\\n",
       "3459385                      NaN         NaN        NaN   \n",
       "9720664                      NaN         NaN        NaN   \n",
       "2027206                      NaN         0.0        0.0   \n",
       "8180884                      NaN         0.0        0.0   \n",
       "3511765                      NaN         0.0        0.0   \n",
       "\n",
       "         comp8_rate_percent_diff  click_bool  gross_bookings_usd  booking_bool  \n",
       "3459385                      NaN           1              193.02             1  \n",
       "9720664                      NaN           1               88.71             1  \n",
       "2027206                      NaN           1               60.15             1  \n",
       "8180884                      NaN           1              208.91             1  \n",
       "3511765                      NaN           0                 NaN             0  \n",
       "\n",
       "[5 rows x 54 columns]"
      ]
     },
     "execution_count": 14,
     "metadata": {},
     "output_type": "execute_result"
    }
   ],
   "source": [
    "# train/test split complete\n",
    "test.head()"
   ]
  },
  {
   "cell_type": "code",
   "execution_count": 15,
   "id": "fae88765",
   "metadata": {},
   "outputs": [
    {
     "data": {
      "text/html": [
       "<div>\n",
       "<style scoped>\n",
       "    .dataframe tbody tr th:only-of-type {\n",
       "        vertical-align: middle;\n",
       "    }\n",
       "\n",
       "    .dataframe tbody tr th {\n",
       "        vertical-align: top;\n",
       "    }\n",
       "\n",
       "    .dataframe thead th {\n",
       "        text-align: right;\n",
       "    }\n",
       "</style>\n",
       "<table border=\"1\" class=\"dataframe\">\n",
       "  <thead>\n",
       "    <tr style=\"text-align: right;\">\n",
       "      <th></th>\n",
       "      <th>srch_id</th>\n",
       "      <th>date_time</th>\n",
       "      <th>site_id</th>\n",
       "      <th>visitor_location_country_id</th>\n",
       "      <th>visitor_hist_starrating</th>\n",
       "      <th>visitor_hist_adr_usd</th>\n",
       "      <th>prop_country_id</th>\n",
       "      <th>prop_id</th>\n",
       "      <th>prop_starrating</th>\n",
       "      <th>prop_review_score</th>\n",
       "      <th>...</th>\n",
       "      <th>comp6_rate_percent_diff</th>\n",
       "      <th>comp7_rate</th>\n",
       "      <th>comp7_inv</th>\n",
       "      <th>comp7_rate_percent_diff</th>\n",
       "      <th>comp8_rate</th>\n",
       "      <th>comp8_inv</th>\n",
       "      <th>comp8_rate_percent_diff</th>\n",
       "      <th>click_bool</th>\n",
       "      <th>gross_bookings_usd</th>\n",
       "      <th>booking_bool</th>\n",
       "    </tr>\n",
       "  </thead>\n",
       "  <tbody>\n",
       "    <tr>\n",
       "      <th>8817994</th>\n",
       "      <td>592099</td>\n",
       "      <td>2013-06-09 21:39:15</td>\n",
       "      <td>18</td>\n",
       "      <td>129</td>\n",
       "      <td>NaN</td>\n",
       "      <td>NaN</td>\n",
       "      <td>129</td>\n",
       "      <td>60932</td>\n",
       "      <td>4</td>\n",
       "      <td>4.0</td>\n",
       "      <td>...</td>\n",
       "      <td>NaN</td>\n",
       "      <td>0.0</td>\n",
       "      <td>0.0</td>\n",
       "      <td>NaN</td>\n",
       "      <td>NaN</td>\n",
       "      <td>NaN</td>\n",
       "      <td>NaN</td>\n",
       "      <td>0</td>\n",
       "      <td>NaN</td>\n",
       "      <td>0</td>\n",
       "    </tr>\n",
       "    <tr>\n",
       "      <th>7813334</th>\n",
       "      <td>524841</td>\n",
       "      <td>2013-01-27 09:01:42</td>\n",
       "      <td>5</td>\n",
       "      <td>219</td>\n",
       "      <td>NaN</td>\n",
       "      <td>NaN</td>\n",
       "      <td>100</td>\n",
       "      <td>42181</td>\n",
       "      <td>4</td>\n",
       "      <td>4.5</td>\n",
       "      <td>...</td>\n",
       "      <td>NaN</td>\n",
       "      <td>NaN</td>\n",
       "      <td>NaN</td>\n",
       "      <td>NaN</td>\n",
       "      <td>0.0</td>\n",
       "      <td>0.0</td>\n",
       "      <td>NaN</td>\n",
       "      <td>0</td>\n",
       "      <td>NaN</td>\n",
       "      <td>0</td>\n",
       "    </tr>\n",
       "    <tr>\n",
       "      <th>633535</th>\n",
       "      <td>42333</td>\n",
       "      <td>2013-05-17 10:12:28</td>\n",
       "      <td>14</td>\n",
       "      <td>100</td>\n",
       "      <td>NaN</td>\n",
       "      <td>NaN</td>\n",
       "      <td>100</td>\n",
       "      <td>104112</td>\n",
       "      <td>4</td>\n",
       "      <td>4.5</td>\n",
       "      <td>...</td>\n",
       "      <td>NaN</td>\n",
       "      <td>NaN</td>\n",
       "      <td>NaN</td>\n",
       "      <td>NaN</td>\n",
       "      <td>1.0</td>\n",
       "      <td>0.0</td>\n",
       "      <td>113.0</td>\n",
       "      <td>1</td>\n",
       "      <td>1764.72</td>\n",
       "      <td>1</td>\n",
       "    </tr>\n",
       "    <tr>\n",
       "      <th>1357246</th>\n",
       "      <td>90885</td>\n",
       "      <td>2013-04-01 06:58:15</td>\n",
       "      <td>5</td>\n",
       "      <td>219</td>\n",
       "      <td>NaN</td>\n",
       "      <td>NaN</td>\n",
       "      <td>219</td>\n",
       "      <td>69709</td>\n",
       "      <td>2</td>\n",
       "      <td>4.5</td>\n",
       "      <td>...</td>\n",
       "      <td>NaN</td>\n",
       "      <td>NaN</td>\n",
       "      <td>NaN</td>\n",
       "      <td>NaN</td>\n",
       "      <td>NaN</td>\n",
       "      <td>NaN</td>\n",
       "      <td>NaN</td>\n",
       "      <td>1</td>\n",
       "      <td>179.66</td>\n",
       "      <td>1</td>\n",
       "    </tr>\n",
       "    <tr>\n",
       "      <th>4864674</th>\n",
       "      <td>326481</td>\n",
       "      <td>2013-03-26 19:45:34</td>\n",
       "      <td>15</td>\n",
       "      <td>55</td>\n",
       "      <td>NaN</td>\n",
       "      <td>NaN</td>\n",
       "      <td>215</td>\n",
       "      <td>118269</td>\n",
       "      <td>4</td>\n",
       "      <td>3.5</td>\n",
       "      <td>...</td>\n",
       "      <td>NaN</td>\n",
       "      <td>NaN</td>\n",
       "      <td>NaN</td>\n",
       "      <td>NaN</td>\n",
       "      <td>NaN</td>\n",
       "      <td>NaN</td>\n",
       "      <td>NaN</td>\n",
       "      <td>0</td>\n",
       "      <td>NaN</td>\n",
       "      <td>0</td>\n",
       "    </tr>\n",
       "  </tbody>\n",
       "</table>\n",
       "<p>5 rows × 54 columns</p>\n",
       "</div>"
      ],
      "text/plain": [
       "         srch_id            date_time  site_id  visitor_location_country_id  \\\n",
       "8817994   592099  2013-06-09 21:39:15       18                          129   \n",
       "7813334   524841  2013-01-27 09:01:42        5                          219   \n",
       "633535     42333  2013-05-17 10:12:28       14                          100   \n",
       "1357246    90885  2013-04-01 06:58:15        5                          219   \n",
       "4864674   326481  2013-03-26 19:45:34       15                           55   \n",
       "\n",
       "         visitor_hist_starrating  visitor_hist_adr_usd  prop_country_id  \\\n",
       "8817994                      NaN                   NaN              129   \n",
       "7813334                      NaN                   NaN              100   \n",
       "633535                       NaN                   NaN              100   \n",
       "1357246                      NaN                   NaN              219   \n",
       "4864674                      NaN                   NaN              215   \n",
       "\n",
       "         prop_id  prop_starrating  prop_review_score  ...  \\\n",
       "8817994    60932                4                4.0  ...   \n",
       "7813334    42181                4                4.5  ...   \n",
       "633535    104112                4                4.5  ...   \n",
       "1357246    69709                2                4.5  ...   \n",
       "4864674   118269                4                3.5  ...   \n",
       "\n",
       "         comp6_rate_percent_diff  comp7_rate  comp7_inv  \\\n",
       "8817994                      NaN         0.0        0.0   \n",
       "7813334                      NaN         NaN        NaN   \n",
       "633535                       NaN         NaN        NaN   \n",
       "1357246                      NaN         NaN        NaN   \n",
       "4864674                      NaN         NaN        NaN   \n",
       "\n",
       "         comp7_rate_percent_diff  comp8_rate  comp8_inv  \\\n",
       "8817994                      NaN         NaN        NaN   \n",
       "7813334                      NaN         0.0        0.0   \n",
       "633535                       NaN         1.0        0.0   \n",
       "1357246                      NaN         NaN        NaN   \n",
       "4864674                      NaN         NaN        NaN   \n",
       "\n",
       "         comp8_rate_percent_diff  click_bool  gross_bookings_usd  booking_bool  \n",
       "8817994                      NaN           0                 NaN             0  \n",
       "7813334                      NaN           0                 NaN             0  \n",
       "633535                     113.0           1             1764.72             1  \n",
       "1357246                      NaN           1              179.66             1  \n",
       "4864674                      NaN           0                 NaN             0  \n",
       "\n",
       "[5 rows x 54 columns]"
      ]
     },
     "execution_count": 15,
     "metadata": {},
     "output_type": "execute_result"
    }
   ],
   "source": [
    "train.head()"
   ]
  },
  {
   "cell_type": "markdown",
   "id": "fc3b241f",
   "metadata": {},
   "source": [
    "Creating a new column with binary classification as to whether a location is considered \"good\":"
   ]
  },
  {
   "cell_type": "code",
   "execution_count": 16,
   "id": "08bf8986",
   "metadata": {},
   "outputs": [],
   "source": [
    "train_location_median = train[\"prop_location_score1\"].median()\n",
    "test_location_median = test[\"prop_location_score1\"].median()"
   ]
  },
  {
   "cell_type": "code",
   "execution_count": 17,
   "id": "d164971e",
   "metadata": {},
   "outputs": [],
   "source": [
    "def aboveOrBelowTrain(row):\n",
    "    if row[\"prop_location_score1\"] >= train_location_median:\n",
    "        return 1\n",
    "    else:\n",
    "        return 0"
   ]
  },
  {
   "cell_type": "code",
   "execution_count": 18,
   "id": "ffceebe1",
   "metadata": {},
   "outputs": [],
   "source": [
    "def aboveOrBelowTest(row):\n",
    "    if row[\"prop_location_score1\"] >= test_location_median:\n",
    "        return 1\n",
    "    else:\n",
    "        return 0"
   ]
  },
  {
   "cell_type": "code",
   "execution_count": 19,
   "id": "e10bbeb4",
   "metadata": {},
   "outputs": [],
   "source": [
    "train[\"isGoodLocation\"] = train.apply(aboveOrBelowTrain, axis=1)"
   ]
  },
  {
   "cell_type": "code",
   "execution_count": 20,
   "id": "7e6e50d2",
   "metadata": {},
   "outputs": [],
   "source": [
    "test[\"isGoodLocation\"] = test.apply(aboveOrBelowTest, axis=1)"
   ]
  },
  {
   "cell_type": "code",
   "execution_count": 21,
   "id": "d314bec7",
   "metadata": {},
   "outputs": [
    {
     "data": {
      "text/plain": [
       "0    160051\n",
       "1    159949\n",
       "Name: booking_bool, dtype: int64"
      ]
     },
     "execution_count": 21,
     "metadata": {},
     "output_type": "execute_result"
    }
   ],
   "source": [
    "train['booking_bool'].value_counts()"
   ]
  },
  {
   "cell_type": "markdown",
   "id": "cafb90f5",
   "metadata": {},
   "source": [
    "Target Variable:\n",
    "    booking_bool\n",
    "        - did the customer book this instance or no\n",
    "        \n",
    "Explanatory Variables:\n",
    "    isGoodLocation:\n",
    "        - 0 or 1 if the location is good.\n",
    "        \n",
    "    srch_booking_window:\n",
    "        - Number of days in the future the hotel stay started from the search date\n",
    "        \n",
    "    random_bool:\n",
    "        - +1 when the displayed sort was random, 0 when the normal sort order was displayed\n",
    "    \n",
    "    promotion_flag:\n",
    "        - +1 if the hotel had a sale price promotion specifically displayed\n",
    "        \n",
    "    srch_saturday_night_bool\n",
    "             - +1 if the stay includes a Saturday night, starts from Thursday with a length of stay is less than or equal to 4 nights (i.e. weekend); otherwise 0\n",
    "        "
   ]
  },
  {
   "cell_type": "code",
   "execution_count": 22,
   "id": "4502023f",
   "metadata": {},
   "outputs": [],
   "source": [
    "predictors = [\"srch_saturday_night_bool\", \"promotion_flag\", \"random_bool\", \"srch_booking_window\", \"isGoodLocation\"]\n",
    "\n",
    "\n"
   ]
  },
  {
   "cell_type": "markdown",
   "id": "6748bf1e",
   "metadata": {},
   "source": [
    "Crossvalidation:\n",
    "* cv = number of folds\n",
    "* Cs = list of floats or int with the inverse of regularization strength. smaller values specify stronger regularization\n",
    "* scoring =  A string or a scorer (see sklearn.metrics). The default scoring option used is ‘accuracy’."
   ]
  },
  {
   "cell_type": "code",
   "execution_count": 23,
   "id": "5f5dad20",
   "metadata": {},
   "outputs": [
    {
     "name": "stdout",
     "output_type": "stream",
     "text": [
      "n_samples: 320000 is greater than n_features 55\n",
      "Because n_samples >> n_features, we will choose - for now - the newton-cholesky solver:\n"
     ]
    }
   ],
   "source": [
    "print(\"n_samples: {0} is greater than n_features {1}\".format(train.shape[0], train.shape[1]))\n",
    "\n",
    "print(\"Because n_samples >> n_features, we will choose - for now - the newton-cholesky solver:\")"
   ]
  },
  {
   "cell_type": "code",
   "execution_count": 24,
   "id": "ab89c61c",
   "metadata": {},
   "outputs": [],
   "source": [
    "X_train = train[predictors]\n",
    "y_train = train[\"booking_bool\"]\n",
    "X_test = test[predictors]\n",
    "y_test = test[\"booking_bool\"]"
   ]
  },
  {
   "cell_type": "code",
   "execution_count": 25,
   "id": "a19980aa",
   "metadata": {},
   "outputs": [
    {
     "data": {
      "text/html": [
       "<div>\n",
       "<style scoped>\n",
       "    .dataframe tbody tr th:only-of-type {\n",
       "        vertical-align: middle;\n",
       "    }\n",
       "\n",
       "    .dataframe tbody tr th {\n",
       "        vertical-align: top;\n",
       "    }\n",
       "\n",
       "    .dataframe thead th {\n",
       "        text-align: right;\n",
       "    }\n",
       "</style>\n",
       "<table border=\"1\" class=\"dataframe\">\n",
       "  <thead>\n",
       "    <tr style=\"text-align: right;\">\n",
       "      <th></th>\n",
       "      <th>srch_saturday_night_bool</th>\n",
       "      <th>promotion_flag</th>\n",
       "      <th>random_bool</th>\n",
       "      <th>srch_booking_window</th>\n",
       "      <th>isGoodLocation</th>\n",
       "    </tr>\n",
       "  </thead>\n",
       "  <tbody>\n",
       "    <tr>\n",
       "      <th>8817994</th>\n",
       "      <td>0</td>\n",
       "      <td>0</td>\n",
       "      <td>0</td>\n",
       "      <td>1</td>\n",
       "      <td>1</td>\n",
       "    </tr>\n",
       "    <tr>\n",
       "      <th>7813334</th>\n",
       "      <td>1</td>\n",
       "      <td>0</td>\n",
       "      <td>0</td>\n",
       "      <td>20</td>\n",
       "      <td>1</td>\n",
       "    </tr>\n",
       "    <tr>\n",
       "      <th>633535</th>\n",
       "      <td>1</td>\n",
       "      <td>1</td>\n",
       "      <td>0</td>\n",
       "      <td>64</td>\n",
       "      <td>1</td>\n",
       "    </tr>\n",
       "    <tr>\n",
       "      <th>1357246</th>\n",
       "      <td>1</td>\n",
       "      <td>0</td>\n",
       "      <td>0</td>\n",
       "      <td>46</td>\n",
       "      <td>1</td>\n",
       "    </tr>\n",
       "    <tr>\n",
       "      <th>4864674</th>\n",
       "      <td>0</td>\n",
       "      <td>1</td>\n",
       "      <td>0</td>\n",
       "      <td>7</td>\n",
       "      <td>1</td>\n",
       "    </tr>\n",
       "    <tr>\n",
       "      <th>...</th>\n",
       "      <td>...</td>\n",
       "      <td>...</td>\n",
       "      <td>...</td>\n",
       "      <td>...</td>\n",
       "      <td>...</td>\n",
       "    </tr>\n",
       "    <tr>\n",
       "      <th>9742649</th>\n",
       "      <td>0</td>\n",
       "      <td>0</td>\n",
       "      <td>1</td>\n",
       "      <td>2</td>\n",
       "      <td>1</td>\n",
       "    </tr>\n",
       "    <tr>\n",
       "      <th>6272216</th>\n",
       "      <td>0</td>\n",
       "      <td>0</td>\n",
       "      <td>0</td>\n",
       "      <td>70</td>\n",
       "      <td>0</td>\n",
       "    </tr>\n",
       "    <tr>\n",
       "      <th>3332075</th>\n",
       "      <td>1</td>\n",
       "      <td>0</td>\n",
       "      <td>0</td>\n",
       "      <td>3</td>\n",
       "      <td>0</td>\n",
       "    </tr>\n",
       "    <tr>\n",
       "      <th>2404582</th>\n",
       "      <td>0</td>\n",
       "      <td>1</td>\n",
       "      <td>0</td>\n",
       "      <td>53</td>\n",
       "      <td>1</td>\n",
       "    </tr>\n",
       "    <tr>\n",
       "      <th>4563544</th>\n",
       "      <td>0</td>\n",
       "      <td>0</td>\n",
       "      <td>0</td>\n",
       "      <td>84</td>\n",
       "      <td>1</td>\n",
       "    </tr>\n",
       "  </tbody>\n",
       "</table>\n",
       "<p>320000 rows × 5 columns</p>\n",
       "</div>"
      ],
      "text/plain": [
       "         srch_saturday_night_bool  promotion_flag  random_bool  \\\n",
       "8817994                         0               0            0   \n",
       "7813334                         1               0            0   \n",
       "633535                          1               1            0   \n",
       "1357246                         1               0            0   \n",
       "4864674                         0               1            0   \n",
       "...                           ...             ...          ...   \n",
       "9742649                         0               0            1   \n",
       "6272216                         0               0            0   \n",
       "3332075                         1               0            0   \n",
       "2404582                         0               1            0   \n",
       "4563544                         0               0            0   \n",
       "\n",
       "         srch_booking_window  isGoodLocation  \n",
       "8817994                    1               1  \n",
       "7813334                   20               1  \n",
       "633535                    64               1  \n",
       "1357246                   46               1  \n",
       "4864674                    7               1  \n",
       "...                      ...             ...  \n",
       "9742649                    2               1  \n",
       "6272216                   70               0  \n",
       "3332075                    3               0  \n",
       "2404582                   53               1  \n",
       "4563544                   84               1  \n",
       "\n",
       "[320000 rows x 5 columns]"
      ]
     },
     "execution_count": 25,
     "metadata": {},
     "output_type": "execute_result"
    }
   ],
   "source": [
    "X_train"
   ]
  },
  {
   "cell_type": "code",
   "execution_count": 26,
   "id": "4d3bbc70",
   "metadata": {},
   "outputs": [
    {
     "name": "stderr",
     "output_type": "stream",
     "text": [
      "/Users/harrisonbarth/opt/anaconda3/lib/python3.8/site-packages/scipy/optimize/linesearch.py:327: LineSearchWarning: The line search algorithm did not converge\n",
      "  warn('The line search algorithm did not converge', LineSearchWarning)\n",
      "/Users/harrisonbarth/opt/anaconda3/lib/python3.8/site-packages/sklearn/utils/optimize.py:195: UserWarning: Line Search failed\n",
      "  warnings.warn('Line Search failed')\n",
      "/Users/harrisonbarth/opt/anaconda3/lib/python3.8/site-packages/scipy/optimize/linesearch.py:327: LineSearchWarning: The line search algorithm did not converge\n",
      "  warn('The line search algorithm did not converge', LineSearchWarning)\n",
      "/Users/harrisonbarth/opt/anaconda3/lib/python3.8/site-packages/sklearn/utils/optimize.py:195: UserWarning: Line Search failed\n",
      "  warnings.warn('Line Search failed')\n",
      "/Users/harrisonbarth/opt/anaconda3/lib/python3.8/site-packages/scipy/optimize/linesearch.py:327: LineSearchWarning: The line search algorithm did not converge\n",
      "  warn('The line search algorithm did not converge', LineSearchWarning)\n",
      "/Users/harrisonbarth/opt/anaconda3/lib/python3.8/site-packages/sklearn/utils/optimize.py:195: UserWarning: Line Search failed\n",
      "  warnings.warn('Line Search failed')\n",
      "/Users/harrisonbarth/opt/anaconda3/lib/python3.8/site-packages/scipy/optimize/linesearch.py:327: LineSearchWarning: The line search algorithm did not converge\n",
      "  warn('The line search algorithm did not converge', LineSearchWarning)\n",
      "/Users/harrisonbarth/opt/anaconda3/lib/python3.8/site-packages/sklearn/utils/optimize.py:195: UserWarning: Line Search failed\n",
      "  warnings.warn('Line Search failed')\n",
      "/Users/harrisonbarth/opt/anaconda3/lib/python3.8/site-packages/scipy/optimize/linesearch.py:327: LineSearchWarning: The line search algorithm did not converge\n",
      "  warn('The line search algorithm did not converge', LineSearchWarning)\n",
      "/Users/harrisonbarth/opt/anaconda3/lib/python3.8/site-packages/sklearn/utils/optimize.py:195: UserWarning: Line Search failed\n",
      "  warnings.warn('Line Search failed')\n",
      "/Users/harrisonbarth/opt/anaconda3/lib/python3.8/site-packages/scipy/optimize/linesearch.py:327: LineSearchWarning: The line search algorithm did not converge\n",
      "  warn('The line search algorithm did not converge', LineSearchWarning)\n",
      "/Users/harrisonbarth/opt/anaconda3/lib/python3.8/site-packages/sklearn/utils/optimize.py:195: UserWarning: Line Search failed\n",
      "  warnings.warn('Line Search failed')\n",
      "/Users/harrisonbarth/opt/anaconda3/lib/python3.8/site-packages/scipy/optimize/linesearch.py:327: LineSearchWarning: The line search algorithm did not converge\n",
      "  warn('The line search algorithm did not converge', LineSearchWarning)\n",
      "/Users/harrisonbarth/opt/anaconda3/lib/python3.8/site-packages/sklearn/utils/optimize.py:195: UserWarning: Line Search failed\n",
      "  warnings.warn('Line Search failed')\n",
      "/Users/harrisonbarth/opt/anaconda3/lib/python3.8/site-packages/scipy/optimize/linesearch.py:437: LineSearchWarning: Rounding errors prevent the line search from converging\n",
      "  warn(msg, LineSearchWarning)\n",
      "/Users/harrisonbarth/opt/anaconda3/lib/python3.8/site-packages/scipy/optimize/linesearch.py:327: LineSearchWarning: The line search algorithm did not converge\n",
      "  warn('The line search algorithm did not converge', LineSearchWarning)\n",
      "/Users/harrisonbarth/opt/anaconda3/lib/python3.8/site-packages/sklearn/utils/optimize.py:195: UserWarning: Line Search failed\n",
      "  warnings.warn('Line Search failed')\n",
      "/Users/harrisonbarth/opt/anaconda3/lib/python3.8/site-packages/scipy/optimize/linesearch.py:437: LineSearchWarning: Rounding errors prevent the line search from converging\n",
      "  warn(msg, LineSearchWarning)\n",
      "/Users/harrisonbarth/opt/anaconda3/lib/python3.8/site-packages/scipy/optimize/linesearch.py:327: LineSearchWarning: The line search algorithm did not converge\n",
      "  warn('The line search algorithm did not converge', LineSearchWarning)\n",
      "/Users/harrisonbarth/opt/anaconda3/lib/python3.8/site-packages/sklearn/utils/optimize.py:195: UserWarning: Line Search failed\n",
      "  warnings.warn('Line Search failed')\n",
      "/Users/harrisonbarth/opt/anaconda3/lib/python3.8/site-packages/scipy/optimize/linesearch.py:327: LineSearchWarning: The line search algorithm did not converge\n",
      "  warn('The line search algorithm did not converge', LineSearchWarning)\n",
      "/Users/harrisonbarth/opt/anaconda3/lib/python3.8/site-packages/sklearn/utils/optimize.py:195: UserWarning: Line Search failed\n",
      "  warnings.warn('Line Search failed')\n",
      "/Users/harrisonbarth/opt/anaconda3/lib/python3.8/site-packages/scipy/optimize/linesearch.py:327: LineSearchWarning: The line search algorithm did not converge\n",
      "  warn('The line search algorithm did not converge', LineSearchWarning)\n",
      "/Users/harrisonbarth/opt/anaconda3/lib/python3.8/site-packages/sklearn/utils/optimize.py:195: UserWarning: Line Search failed\n",
      "  warnings.warn('Line Search failed')\n",
      "/Users/harrisonbarth/opt/anaconda3/lib/python3.8/site-packages/scipy/optimize/linesearch.py:327: LineSearchWarning: The line search algorithm did not converge\n",
      "  warn('The line search algorithm did not converge', LineSearchWarning)\n",
      "/Users/harrisonbarth/opt/anaconda3/lib/python3.8/site-packages/sklearn/utils/optimize.py:195: UserWarning: Line Search failed\n",
      "  warnings.warn('Line Search failed')\n",
      "/Users/harrisonbarth/opt/anaconda3/lib/python3.8/site-packages/scipy/optimize/linesearch.py:437: LineSearchWarning: Rounding errors prevent the line search from converging\n",
      "  warn(msg, LineSearchWarning)\n",
      "/Users/harrisonbarth/opt/anaconda3/lib/python3.8/site-packages/scipy/optimize/linesearch.py:327: LineSearchWarning: The line search algorithm did not converge\n",
      "  warn('The line search algorithm did not converge', LineSearchWarning)\n",
      "/Users/harrisonbarth/opt/anaconda3/lib/python3.8/site-packages/sklearn/utils/optimize.py:195: UserWarning: Line Search failed\n",
      "  warnings.warn('Line Search failed')\n"
     ]
    }
   ],
   "source": [
    "from sklearn.linear_model import LogisticRegressionCV\n",
    "\n",
    "# inverse regularization strength:\n",
    "listC = list(np.power(10.0, np.arange(-4, 4)))\n",
    "model_cv = LogisticRegressionCV(cv=10,Cs=listC, solver=\"newton-cg\")\n",
    "clf = model_cv.fit(X_train, y_train)"
   ]
  },
  {
   "cell_type": "code",
   "execution_count": 27,
   "id": "69a4e529",
   "metadata": {},
   "outputs": [
    {
     "data": {
      "text/plain": [
       "array([[0.61709375, 0.62015625, 0.6198125 , 0.61978125, 0.61975   ,\n",
       "        0.61975   , 0.61975   , 0.61975   ],\n",
       "       [0.61146875, 0.61725   , 0.61809375, 0.618375  , 0.6184375 ,\n",
       "        0.6184375 , 0.6184375 , 0.6184375 ],\n",
       "       [0.61225   , 0.6188125 , 0.6199375 , 0.62      , 0.61996875,\n",
       "        0.61996875, 0.61996875, 0.61996875],\n",
       "       [0.615     , 0.62125   , 0.62140625, 0.62190625, 0.62190625,\n",
       "        0.62190625, 0.62190625, 0.62190625],\n",
       "       [0.6185625 , 0.62421875, 0.62484375, 0.62484375, 0.62484375,\n",
       "        0.62484375, 0.62484375, 0.62484375],\n",
       "       [0.61434375, 0.6196875 , 0.62059375, 0.62075   , 0.62071875,\n",
       "        0.62071875, 0.62071875, 0.62071875],\n",
       "       [0.61828125, 0.62103125, 0.6214375 , 0.621375  , 0.621375  ,\n",
       "        0.62134375, 0.62134375, 0.62134375],\n",
       "       [0.6176875 , 0.62084375, 0.6215    , 0.621375  , 0.62134375,\n",
       "        0.62134375, 0.62134375, 0.62134375],\n",
       "       [0.6165625 , 0.62246875, 0.62275   , 0.62271875, 0.62275   ,\n",
       "        0.62275   , 0.62275   , 0.62275   ],\n",
       "       [0.6195625 , 0.6233125 , 0.6243125 , 0.62425   , 0.62421875,\n",
       "        0.62421875, 0.62421875, 0.62421875]])"
      ]
     },
     "execution_count": 27,
     "metadata": {},
     "output_type": "execute_result"
    }
   ],
   "source": [
    "# accuracy for each fold\n",
    "clf.scores_[1]"
   ]
  },
  {
   "cell_type": "code",
   "execution_count": 28,
   "id": "17f27e0b",
   "metadata": {},
   "outputs": [
    {
     "name": "stdout",
     "output_type": "stream",
     "text": [
      "The mean accuracy across all folds and regularization values is: 0.62076328125\n"
     ]
    }
   ],
   "source": [
    "print(\"The mean accuracy across all folds and regularization values is:\", clf.scores_[1].mean())"
   ]
  },
  {
   "cell_type": "code",
   "execution_count": 29,
   "id": "345735b5",
   "metadata": {},
   "outputs": [],
   "source": [
    "y_pred = model_cv.predict(X_test)"
   ]
  },
  {
   "cell_type": "code",
   "execution_count": 30,
   "id": "8ccf820e",
   "metadata": {},
   "outputs": [
    {
     "name": "stdout",
     "output_type": "stream",
     "text": [
      "Cross-validation LogReg confusion matrix:\n"
     ]
    },
    {
     "data": {
      "text/plain": [
       "array([[12655, 27294],\n",
       "       [ 3062, 36989]])"
      ]
     },
     "execution_count": 30,
     "metadata": {},
     "output_type": "execute_result"
    }
   ],
   "source": [
    "# model_cv.score(X_train,y_train)\n",
    "cnf_cv_matrix = metrics.confusion_matrix(y_test, y_pred)\n",
    "\n",
    "print(\"Cross-validation LogReg confusion matrix:\")\n",
    "cnf_cv_matrix"
   ]
  },
  {
   "cell_type": "code",
   "execution_count": 31,
   "id": "aa3db551",
   "metadata": {},
   "outputs": [
    {
     "name": "stdout",
     "output_type": "stream",
     "text": [
      "[0.1]\n"
     ]
    }
   ],
   "source": [
    "# check which value of C was selected\n",
    "print(model_cv.C_) \n",
    "# Array of C that maps to the best scores across every class. If refit is set to False, then for each class, the best C is the average of the C’s that correspond to the best scores for each fold. C_ is of shape(n_classes,) when the problem is binary."
   ]
  },
  {
   "cell_type": "markdown",
   "id": "dd6c3f9b",
   "metadata": {},
   "source": [
    "RANDOM FOREST:"
   ]
  },
  {
   "cell_type": "code",
   "execution_count": 32,
   "id": "17772dd7",
   "metadata": {},
   "outputs": [],
   "source": [
    "from sklearn.ensemble import RandomForestClassifier"
   ]
  },
  {
   "cell_type": "code",
   "execution_count": 33,
   "id": "2e988cfd",
   "metadata": {},
   "outputs": [
    {
     "data": {
      "text/plain": [
       "RandomForestClassifier(max_depth=5, random_state=42)"
      ]
     },
     "execution_count": 33,
     "metadata": {},
     "output_type": "execute_result"
    }
   ],
   "source": [
    "model = RandomForestClassifier(n_estimators=100, max_depth=5, random_state=42)\n",
    "model.fit(X_train, y_train)"
   ]
  },
  {
   "cell_type": "code",
   "execution_count": 34,
   "id": "bd2d8028",
   "metadata": {},
   "outputs": [],
   "source": [
    "forest_preds = model.predict(X_test)"
   ]
  },
  {
   "cell_type": "code",
   "execution_count": 35,
   "id": "d5ab9b04",
   "metadata": {},
   "outputs": [],
   "source": [
    "# precision measures the proportion of positive predictions that are actually correct"
   ]
  },
  {
   "cell_type": "code",
   "execution_count": 36,
   "id": "eae9469f",
   "metadata": {},
   "outputs": [],
   "source": [
    "# Recall (also called sensitivity or true positive rate) is defined as the ratio of true positive predictions \n",
    "# to the total number of actual positive samples in the dataset\n",
    "# recall measures the proportion of actual positive samples that are correctly identified as positive by the model."
   ]
  },
  {
   "cell_type": "code",
   "execution_count": 37,
   "id": "67ed995d",
   "metadata": {},
   "outputs": [],
   "source": [
    "# the F1 score is a weighted harmonic mean of precision and recall. It is another metric used to evaluate the quality of the predictions made by a classification model."
   ]
  },
  {
   "cell_type": "code",
   "execution_count": 38,
   "id": "e0884b38",
   "metadata": {},
   "outputs": [
    {
     "data": {
      "text/plain": [
       "0.62055"
      ]
     },
     "execution_count": 38,
     "metadata": {},
     "output_type": "execute_result"
    }
   ],
   "source": [
    "acc = metrics.accuracy_score(y_test, y_pred)\n",
    "acc"
   ]
  },
  {
   "cell_type": "code",
   "execution_count": 39,
   "id": "35a33e4c",
   "metadata": {},
   "outputs": [
    {
     "name": "stdout",
     "output_type": "stream",
     "text": [
      "              precision    recall  f1-score   support\n",
      "\n",
      "           0       0.81      0.32      0.45     39949\n",
      "           1       0.58      0.92      0.71     40051\n",
      "\n",
      "    accuracy                           0.62     80000\n",
      "   macro avg       0.69      0.62      0.58     80000\n",
      "weighted avg       0.69      0.62      0.58     80000\n",
      "\n"
     ]
    }
   ],
   "source": [
    "report = metrics.classification_report(y_test, y_pred)\n",
    "print(report)"
   ]
  },
  {
   "cell_type": "code",
   "execution_count": 40,
   "id": "6cc7a569",
   "metadata": {},
   "outputs": [
    {
     "data": {
      "text/plain": [
       "0.6216875"
      ]
     },
     "execution_count": 40,
     "metadata": {},
     "output_type": "execute_result"
    }
   ],
   "source": [
    "forest_acc = metrics.accuracy_score(y_test, forest_preds)\n",
    "forest_acc"
   ]
  },
  {
   "cell_type": "code",
   "execution_count": 41,
   "id": "7a6390dd",
   "metadata": {},
   "outputs": [
    {
     "name": "stdout",
     "output_type": "stream",
     "text": [
      "              precision    recall  f1-score   support\n",
      "\n",
      "           0       0.84      0.30      0.44     39949\n",
      "           1       0.57      0.94      0.71     40051\n",
      "\n",
      "    accuracy                           0.62     80000\n",
      "   macro avg       0.71      0.62      0.58     80000\n",
      "weighted avg       0.71      0.62      0.58     80000\n",
      "\n"
     ]
    }
   ],
   "source": [
    "forest_report = metrics.classification_report(y_test, forest_preds)\n",
    "print(forest_report)"
   ]
  },
  {
   "cell_type": "code",
   "execution_count": 42,
   "id": "17f73a9a",
   "metadata": {},
   "outputs": [],
   "source": [
    "cnf = confusion_matrix(y_test, y_pred)\n",
    "forest_cnf = confusion_matrix(y_test, forest_preds)"
   ]
  },
  {
   "cell_type": "code",
   "execution_count": 43,
   "id": "e9688861",
   "metadata": {},
   "outputs": [
    {
     "data": {
      "image/png": "[encoded data removed]",
      "text/plain": [
       "<Figure size 432x288 with 2 Axes>"
      ]
     },
     "metadata": {
      "needs_background": "light"
     },
     "output_type": "display_data"
    }
   ],
   "source": [
    "sb.heatmap(cnf, annot=True, cmap='Greens', fmt='g')\n",
    "plt.xlabel('Predicted labels')\n",
    "plt.ylabel('True labels')\n",
    "plt.show()"
   ]
  },
  {
   "cell_type": "code",
   "execution_count": 63,
   "id": "cb0a248d",
   "metadata": {},
   "outputs": [
    {
     "data": {
      "image/png": "[encoded data removed]",
      "text/plain": [
       "<Figure size 432x288 with 2 Axes>"
      ]
     },
     "metadata": {
      "needs_background": "light"
     },
     "output_type": "display_data"
    }
   ],
   "source": [
    "sb.heatmap(forest_cnf, annot=True, cmap='Reds', fmt='g')\n",
    "plt.xlabel('Predicted labels')\n",
    "plt.ylabel('True labels')\n",
    "plt.show()"
   ]
  },
  {
   "cell_type": "markdown",
   "id": "30320bbc",
   "metadata": {},
   "source": [
    "HYPERTUNING:"
   ]
  },
  {
   "cell_type": "code",
   "execution_count": 64,
   "id": "f163c66b",
   "metadata": {},
   "outputs": [
    {
     "name": "stdout",
     "output_type": "stream",
     "text": [
      "The model selected a regularization strength 'C' of: \n",
      "[0.1]\n"
     ]
    }
   ],
   "source": [
    "# For, logistic regression the main hyperparameter to tune is the **regularization strength** (also $\\lambda$ or C).\n",
    "\n",
    "print(\"The model selected a regularization strength 'C' of: \")\n",
    "print(model_cv.C_)"
   ]
  },
  {
   "cell_type": "markdown",
   "id": "1fcd1ded",
   "metadata": {},
   "source": [
    "Doing our own testing:"
   ]
  },
  {
   "cell_type": "code",
   "execution_count": null,
   "id": "0d9a0041",
   "metadata": {},
   "outputs": [],
   "source": []
  },
  {
   "cell_type": "code",
   "execution_count": 156,
   "id": "1c45ffb7",
   "metadata": {},
   "outputs": [],
   "source": [
    "from sklearn.linear_model import LogisticRegression\n",
    "from sklearn.model_selection import GridSearchCV\n",
    "from sklearn.pipeline import Pipeline\n",
    "from sklearn.preprocessing import StandardScaler\n",
    "\n",
    "# Define the pipeline to scale the data and fit a logistic regression model\n",
    "pipe = Pipeline([\n",
    "    ('scaler', StandardScaler()),\n",
    "    ('logreg', LogisticRegression())\n",
    "])\n",
    "\n",
    "# Define the parameter grid to search over\n",
    "param_grid = {\n",
    "#      L1 or L2 regularization:\n",
    "#     C-values to search over:\n",
    "    'logreg__C': [0.0001, 0.001, 0.01, 0.1, 1, 10],\n",
    "#     searching which solver will be best:\n",
    "    'logreg__solver': ['liblinear', 'saga', 'newton-cg', 'lbfgs'], \n",
    "    \n",
    "    'logreg__class_weight': [{0: 1, 1: 1}, {0: 1, 1: 2}, {0: 1, 1: 3}]\n",
    "}\n",
    "\n",
    "# Create a GridSearchCV object and fit it to the data\n",
    "grid_search = GridSearchCV(pipe, param_grid, cv=5)\n",
    "grid_search.fit(X_train, y_train)\n",
    "\n",
    "# Print the best hyperparameters and the corresponding score\n",
    "best_params = grid_search.best_params_\n",
    "best_score = grid_search.best_score_\n",
    "\n"
   ]
  },
  {
   "cell_type": "code",
   "execution_count": 157,
   "id": "da03207b",
   "metadata": {},
   "outputs": [
    {
     "name": "stdout",
     "output_type": "stream",
     "text": [
      "Best hyperparameters:  {'logreg__C': 0.0001, 'logreg__class_weight': {0: 1, 1: 2}, 'logreg__solver': 'liblinear'}\n",
      "Best score:  0.6226375\n"
     ]
    }
   ],
   "source": [
    "print(\"Best hyperparameters: \", best_params)\n",
    "print(\"Best score: \", best_score)"
   ]
  },
  {
   "cell_type": "markdown",
   "id": "e3a62d26",
   "metadata": {},
   "source": [
    "Evaluation:"
   ]
  },
  {
   "cell_type": "code",
   "execution_count": 158,
   "id": "68677512",
   "metadata": {},
   "outputs": [],
   "source": [
    "model = LogisticRegression(C=best_params[\"logreg__C\"],solver=best_params[\"logreg__solver\"], class_weight=best_params[\"logreg__class_weight\"])\n"
   ]
  },
  {
   "cell_type": "code",
   "execution_count": 159,
   "id": "9a7155b5",
   "metadata": {},
   "outputs": [
    {
     "data": {
      "text/plain": [
       "LogisticRegression(C=0.0001, class_weight={0: 1, 1: 2}, solver='liblinear')"
      ]
     },
     "execution_count": 159,
     "metadata": {},
     "output_type": "execute_result"
    }
   ],
   "source": [
    "model.fit(X_train, y_train)"
   ]
  },
  {
   "cell_type": "code",
   "execution_count": 160,
   "id": "d02d1c1b",
   "metadata": {},
   "outputs": [
    {
     "name": "stdout",
     "output_type": "stream",
     "text": [
      "[1 1 1 ... 1 1 1]\n"
     ]
    }
   ],
   "source": [
    "y_pred = model.predict(X_test)\n",
    "y_proba = model.predict_proba(X_test)\n",
    "print(y_pred)"
   ]
  },
  {
   "cell_type": "code",
   "execution_count": 161,
   "id": "43bebb20",
   "metadata": {},
   "outputs": [
    {
     "name": "stdout",
     "output_type": "stream",
     "text": [
      "[0.60723437 0.60971875 0.60835938 0.60846875 0.61075   ]\n",
      "0.60890625\n"
     ]
    }
   ],
   "source": [
    "scores = cross_val_score(model, X_train, y_train, cv=5)\n",
    "print(scores)\n",
    "print(scores.mean())"
   ]
  },
  {
   "cell_type": "code",
   "execution_count": 162,
   "id": "898fe28a",
   "metadata": {},
   "outputs": [],
   "source": [
    "fpr, tpr, thresholds = roc_curve(y_test, y_pred)\n",
    "roc_auc = auc(fpr, tpr)"
   ]
  },
  {
   "cell_type": "code",
   "execution_count": 163,
   "id": "d45e265f",
   "metadata": {},
   "outputs": [
    {
     "data": {
      "image/png": "[encoded data removed]",
      "text/plain": [
       "<Figure size 432x288 with 1 Axes>"
      ]
     },
     "metadata": {
      "needs_background": "light"
     },
     "output_type": "display_data"
    }
   ],
   "source": [
    "plt.plot(fpr, tpr, color='darkorange', lw=2, label='ROC curve (area = %0.2f)' % roc_auc)\n",
    "plt.plot([0, 1], [0, 1], color='navy', lw=2, linestyle='--')\n",
    "plt.xlabel('False Positive Rate')\n",
    "plt.ylabel('True Positive Rate')\n",
    "plt.title('Receiver operating characteristic')\n",
    "plt.legend(loc=\"lower right\")\n",
    "plt.show()"
   ]
  },
  {
   "cell_type": "code",
   "execution_count": 164,
   "id": "4763cfb1",
   "metadata": {},
   "outputs": [
    {
     "data": {
      "text/plain": [
       "0.6141"
      ]
     },
     "execution_count": 164,
     "metadata": {},
     "output_type": "execute_result"
    }
   ],
   "source": [
    "accuracy = accuracy_score(y_test, y_pred)\n",
    "accuracy"
   ]
  },
  {
   "cell_type": "code",
   "execution_count": 165,
   "id": "2949071b",
   "metadata": {},
   "outputs": [],
   "source": [
    "# compute confusion matrix\n",
    "confusion = confusion_matrix(y_test, y_pred)"
   ]
  },
  {
   "cell_type": "code",
   "execution_count": 166,
   "id": "8d7c88e4",
   "metadata": {},
   "outputs": [
    {
     "name": "stdout",
     "output_type": "stream",
     "text": [
      "Precision: 0.7073619526367414 \n",
      "Recall: 0.6141 \n",
      "F1 Score: 0.5648788063566026\n"
     ]
    }
   ],
   "source": [
    "# compute precision, recall, and F1-score\n",
    "precision, recall, f1_score, _ = precision_recall_fscore_support(y_test, y_pred, average='weighted')\n",
    "print(\"Precision: {0} \\nRecall: {1} \\nF1 Score: {2}\".format(precision, recall, f1_score, _))"
   ]
  },
  {
   "cell_type": "code",
   "execution_count": 167,
   "id": "a2be8ee6",
   "metadata": {},
   "outputs": [
    {
     "name": "stdout",
     "output_type": "stream",
     "text": [
      "              precision    recall  f1-score   support\n",
      "\n",
      "           0       0.85      0.28      0.42     39949\n",
      "           1       0.57      0.95      0.71     40051\n",
      "\n",
      "    accuracy                           0.61     80000\n",
      "   macro avg       0.71      0.61      0.56     80000\n",
      "weighted avg       0.71      0.61      0.56     80000\n",
      "\n"
     ]
    }
   ],
   "source": [
    "tuned_report = metrics.classification_report(y_test, y_pred)\n",
    "print(tuned_report)"
   ]
  },
  {
   "cell_type": "code",
   "execution_count": 168,
   "id": "ca132e68",
   "metadata": {},
   "outputs": [
    {
     "data": {
      "image/png": "[encoded data removed]",
      "text/plain": [
       "<Figure size 432x288 with 2 Axes>"
      ]
     },
     "metadata": {
      "needs_background": "light"
     },
     "output_type": "display_data"
    }
   ],
   "source": [
    "# create a heatmap of the confusion matrix\n",
    "sb.heatmap(confusion, annot=True, cmap='Blues', fmt='g')\n",
    "plt.xlabel('Predicted labels')\n",
    "plt.ylabel('True labels')\n",
    "plt.show()"
   ]
  },
  {
   "cell_type": "code",
   "execution_count": null,
   "id": "49c33322",
   "metadata": {},
   "outputs": [],
   "source": []
  }
 ],
 "metadata": {
  "kernelspec": {
   "display_name": "Python 3",
   "language": "python",
   "name": "python3"
  },
  "language_info": {
   "codemirror_mode": {
    "name": "ipython",
    "version": 3
   },
   "file_extension": ".py",
   "mimetype": "text/x-python",
   "name": "python",
   "nbconvert_exporter": "python",
   "pygments_lexer": "ipython3",
   "version": "3.8.8"
  }
 },
 "nbformat": 4,
 "nbformat_minor": 5
}
